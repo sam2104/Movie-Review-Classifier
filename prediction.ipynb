{
 "cells": [
  {
   "cell_type": "code",
   "execution_count": 8,
   "metadata": {},
   "outputs": [],
   "source": [
    "# Step 1: Import Libraries and Load the Model\n",
    "import numpy as np\n",
    "import tensorflow as tf\n",
    "from tensorflow.keras.datasets import imdb\n",
    "from tensorflow.keras.preprocessing import sequence\n",
    "from tensorflow.keras.models import load_model"
   ]
  },
  {
   "cell_type": "code",
   "execution_count": 9,
   "metadata": {},
   "outputs": [],
   "source": [
    "\n",
    "# Load the IMDB dataset word index\n",
    "word_index = imdb.get_word_index()\n",
    "reverse_word_index = {value: key for key, value in word_index.items()}"
   ]
  },
  {
   "cell_type": "code",
   "execution_count": 10,
   "metadata": {},
   "outputs": [
    {
     "name": "stderr",
     "output_type": "stream",
     "text": [
      "WARNING:absl:Compiled the loaded model, but the compiled metrics have yet to be built. `model.compile_metrics` will be empty until you train or evaluate the model.\n"
     ]
    },
    {
     "data": {
      "text/html": [
       "<pre style=\"white-space:pre;overflow-x:auto;line-height:normal;font-family:Menlo,'DejaVu Sans Mono',consolas,'Courier New',monospace\"><span style=\"font-weight: bold\">Model: \"sequential_1\"</span>\n",
       "</pre>\n"
      ],
      "text/plain": [
       "\u001b[1mModel: \"sequential_1\"\u001b[0m\n"
      ]
     },
     "metadata": {},
     "output_type": "display_data"
    },
    {
     "data": {
      "text/html": [
       "<pre style=\"white-space:pre;overflow-x:auto;line-height:normal;font-family:Menlo,'DejaVu Sans Mono',consolas,'Courier New',monospace\">┏━━━━━━━━━━━━━━━━━━━━━━━━━━━━━━━━━┳━━━━━━━━━━━━━━━━━━━━━━━━┳━━━━━━━━━━━━━━━┓\n",
       "┃<span style=\"font-weight: bold\"> Layer (type)                    </span>┃<span style=\"font-weight: bold\"> Output Shape           </span>┃<span style=\"font-weight: bold\">       Param # </span>┃\n",
       "┡━━━━━━━━━━━━━━━━━━━━━━━━━━━━━━━━━╇━━━━━━━━━━━━━━━━━━━━━━━━╇━━━━━━━━━━━━━━━┩\n",
       "│ embedding_1 (<span style=\"color: #0087ff; text-decoration-color: #0087ff\">Embedding</span>)         │ (<span style=\"color: #00af00; text-decoration-color: #00af00\">32</span>, <span style=\"color: #00af00; text-decoration-color: #00af00\">500</span>, <span style=\"color: #00af00; text-decoration-color: #00af00\">128</span>)         │     <span style=\"color: #00af00; text-decoration-color: #00af00\">1,280,000</span> │\n",
       "├─────────────────────────────────┼────────────────────────┼───────────────┤\n",
       "│ simple_rnn_1 (<span style=\"color: #0087ff; text-decoration-color: #0087ff\">SimpleRNN</span>)        │ (<span style=\"color: #00af00; text-decoration-color: #00af00\">32</span>, <span style=\"color: #00af00; text-decoration-color: #00af00\">128</span>)              │        <span style=\"color: #00af00; text-decoration-color: #00af00\">32,896</span> │\n",
       "├─────────────────────────────────┼────────────────────────┼───────────────┤\n",
       "│ dense_1 (<span style=\"color: #0087ff; text-decoration-color: #0087ff\">Dense</span>)                 │ (<span style=\"color: #00af00; text-decoration-color: #00af00\">32</span>, <span style=\"color: #00af00; text-decoration-color: #00af00\">1</span>)                │           <span style=\"color: #00af00; text-decoration-color: #00af00\">129</span> │\n",
       "└─────────────────────────────────┴────────────────────────┴───────────────┘\n",
       "</pre>\n"
      ],
      "text/plain": [
       "┏━━━━━━━━━━━━━━━━━━━━━━━━━━━━━━━━━┳━━━━━━━━━━━━━━━━━━━━━━━━┳━━━━━━━━━━━━━━━┓\n",
       "┃\u001b[1m \u001b[0m\u001b[1mLayer (type)                   \u001b[0m\u001b[1m \u001b[0m┃\u001b[1m \u001b[0m\u001b[1mOutput Shape          \u001b[0m\u001b[1m \u001b[0m┃\u001b[1m \u001b[0m\u001b[1m      Param #\u001b[0m\u001b[1m \u001b[0m┃\n",
       "┡━━━━━━━━━━━━━━━━━━━━━━━━━━━━━━━━━╇━━━━━━━━━━━━━━━━━━━━━━━━╇━━━━━━━━━━━━━━━┩\n",
       "│ embedding_1 (\u001b[38;5;33mEmbedding\u001b[0m)         │ (\u001b[38;5;34m32\u001b[0m, \u001b[38;5;34m500\u001b[0m, \u001b[38;5;34m128\u001b[0m)         │     \u001b[38;5;34m1,280,000\u001b[0m │\n",
       "├─────────────────────────────────┼────────────────────────┼───────────────┤\n",
       "│ simple_rnn_1 (\u001b[38;5;33mSimpleRNN\u001b[0m)        │ (\u001b[38;5;34m32\u001b[0m, \u001b[38;5;34m128\u001b[0m)              │        \u001b[38;5;34m32,896\u001b[0m │\n",
       "├─────────────────────────────────┼────────────────────────┼───────────────┤\n",
       "│ dense_1 (\u001b[38;5;33mDense\u001b[0m)                 │ (\u001b[38;5;34m32\u001b[0m, \u001b[38;5;34m1\u001b[0m)                │           \u001b[38;5;34m129\u001b[0m │\n",
       "└─────────────────────────────────┴────────────────────────┴───────────────┘\n"
      ]
     },
     "metadata": {},
     "output_type": "display_data"
    },
    {
     "data": {
      "text/html": [
       "<pre style=\"white-space:pre;overflow-x:auto;line-height:normal;font-family:Menlo,'DejaVu Sans Mono',consolas,'Courier New',monospace\"><span style=\"font-weight: bold\"> Total params: </span><span style=\"color: #00af00; text-decoration-color: #00af00\">1,313,027</span> (5.01 MB)\n",
       "</pre>\n"
      ],
      "text/plain": [
       "\u001b[1m Total params: \u001b[0m\u001b[38;5;34m1,313,027\u001b[0m (5.01 MB)\n"
      ]
     },
     "metadata": {},
     "output_type": "display_data"
    },
    {
     "data": {
      "text/html": [
       "<pre style=\"white-space:pre;overflow-x:auto;line-height:normal;font-family:Menlo,'DejaVu Sans Mono',consolas,'Courier New',monospace\"><span style=\"font-weight: bold\"> Trainable params: </span><span style=\"color: #00af00; text-decoration-color: #00af00\">1,313,025</span> (5.01 MB)\n",
       "</pre>\n"
      ],
      "text/plain": [
       "\u001b[1m Trainable params: \u001b[0m\u001b[38;5;34m1,313,025\u001b[0m (5.01 MB)\n"
      ]
     },
     "metadata": {},
     "output_type": "display_data"
    },
    {
     "data": {
      "text/html": [
       "<pre style=\"white-space:pre;overflow-x:auto;line-height:normal;font-family:Menlo,'DejaVu Sans Mono',consolas,'Courier New',monospace\"><span style=\"font-weight: bold\"> Non-trainable params: </span><span style=\"color: #00af00; text-decoration-color: #00af00\">0</span> (0.00 B)\n",
       "</pre>\n"
      ],
      "text/plain": [
       "\u001b[1m Non-trainable params: \u001b[0m\u001b[38;5;34m0\u001b[0m (0.00 B)\n"
      ]
     },
     "metadata": {},
     "output_type": "display_data"
    },
    {
     "data": {
      "text/html": [
       "<pre style=\"white-space:pre;overflow-x:auto;line-height:normal;font-family:Menlo,'DejaVu Sans Mono',consolas,'Courier New',monospace\"><span style=\"font-weight: bold\"> Optimizer params: </span><span style=\"color: #00af00; text-decoration-color: #00af00\">2</span> (12.00 B)\n",
       "</pre>\n"
      ],
      "text/plain": [
       "\u001b[1m Optimizer params: \u001b[0m\u001b[38;5;34m2\u001b[0m (12.00 B)\n"
      ]
     },
     "metadata": {},
     "output_type": "display_data"
    }
   ],
   "source": [
    "# Load the pre-trained model with ReLU activation\n",
    "model = load_model('simple_rnn_imdb.h5')\n",
    "model.summary()"
   ]
  },
  {
   "cell_type": "code",
   "execution_count": 11,
   "metadata": {},
   "outputs": [
    {
     "data": {
      "text/plain": [
       "[array([[ 1.38069605e-04, -5.97299859e-02, -1.98072772e-02, ...,\n",
       "         -1.68039035e-02,  1.58455614e-02,  5.10870516e-02],\n",
       "        [ 5.96596189e-02, -2.58558318e-02, -4.67048697e-02, ...,\n",
       "         -2.06950326e-02,  5.48213646e-02, -1.15887085e-02],\n",
       "        [ 1.22035574e-02,  2.67208647e-02,  2.65229419e-02, ...,\n",
       "          2.51362100e-02,  4.39169630e-02,  1.49673298e-02],\n",
       "        ...,\n",
       "        [ 9.39752534e-02,  9.92692113e-02,  9.60734412e-02, ...,\n",
       "          1.36266515e-01, -1.38835788e-01,  9.40450504e-02],\n",
       "        [ 3.04762321e-03,  4.42622155e-02,  2.75208764e-02, ...,\n",
       "         -3.60630415e-02,  1.72056593e-02,  1.04290657e-02],\n",
       "        [ 6.94968626e-02,  8.14868808e-02,  6.26561865e-02, ...,\n",
       "          1.49751008e-02, -6.88367262e-02,  3.71574610e-02]], dtype=float32),\n",
       " array([[-0.04663681, -0.05321989, -0.11283518, ..., -0.08451095,\n",
       "         -0.02017049,  0.07395039],\n",
       "        [ 0.12034658,  0.07921544,  0.0614766 , ..., -0.01952345,\n",
       "         -0.1146234 , -0.06861038],\n",
       "        [-0.06656355,  0.13885035,  0.14396733, ..., -0.06357991,\n",
       "         -0.08378459,  0.01925482],\n",
       "        ...,\n",
       "        [ 0.12518387, -0.06292076,  0.07995173, ...,  0.12931004,\n",
       "          0.06499138,  0.10260205],\n",
       "        [ 0.08223087,  0.03330855,  0.03156898, ..., -0.11914461,\n",
       "          0.09626266, -0.01740108],\n",
       "        [ 0.02391081,  0.1476878 , -0.02458889, ..., -0.01877148,\n",
       "          0.02319483, -0.12966022]], dtype=float32),\n",
       " array([[-0.08620428,  0.03280924,  0.00999335, ...,  0.07422482,\n",
       "          0.10731912, -0.021358  ],\n",
       "        [-0.072106  , -0.09765466, -0.04167413, ..., -0.06731524,\n",
       "         -0.0522727 , -0.06088912],\n",
       "        [ 0.0419047 ,  0.00781521,  0.19192639, ..., -0.03406209,\n",
       "         -0.06004433, -0.02834517],\n",
       "        ...,\n",
       "        [-0.01193966,  0.03728639, -0.07760867, ...,  0.02083609,\n",
       "          0.08010846, -0.08590095],\n",
       "        [-0.04942301, -0.06048366, -0.03435764, ..., -0.0703831 ,\n",
       "         -0.04175982, -0.19237916],\n",
       "        [ 0.01294453, -0.03674344,  0.00927358, ...,  0.02036902,\n",
       "          0.00558621,  0.00598151]], dtype=float32),\n",
       " array([ 1.15333600e-02, -8.82844161e-03,  6.57663401e-03,  1.22593511e-02,\n",
       "        -1.25441775e-02, -3.64610576e-03, -1.29986713e-02, -1.67562123e-02,\n",
       "         2.49369536e-02, -1.13319058e-03,  7.92234298e-03,  2.56376434e-02,\n",
       "        -1.44120222e-02,  1.17051452e-02,  1.97403096e-02, -2.71438435e-03,\n",
       "        -1.20812710e-02,  2.52860356e-02,  2.93276645e-02,  2.67088283e-02,\n",
       "         1.29722683e-02, -7.80779123e-03, -3.99090443e-03, -1.74896829e-02,\n",
       "        -1.73226763e-02, -2.45701591e-03, -9.27613024e-03,  2.59415954e-02,\n",
       "         8.89141858e-03, -4.03776858e-03, -1.09922485e-02,  8.28082021e-03,\n",
       "        -1.16012907e-02, -2.30640024e-02, -1.99764012e-03,  5.95074100e-03,\n",
       "         2.17209496e-02, -9.46449302e-03,  5.01874369e-03,  1.12530403e-02,\n",
       "         8.44094343e-03, -4.05116407e-05,  1.11639546e-02, -5.48509043e-03,\n",
       "         6.48627803e-03, -1.83619782e-02, -1.95988808e-02,  9.93519835e-03,\n",
       "         2.94791237e-02,  2.13294551e-02, -2.14436799e-02,  1.35707976e-02,\n",
       "         9.55704425e-04, -4.49016457e-03, -7.51700997e-03,  3.18408459e-02,\n",
       "         1.32947532e-03, -6.51411247e-03,  7.15490477e-03, -3.06932651e-03,\n",
       "        -1.46834552e-02, -2.16262769e-02, -1.39667457e-02, -2.51790918e-02,\n",
       "         4.12929570e-03,  1.25423362e-02, -9.61553492e-03,  9.29824170e-03,\n",
       "         6.81215897e-03,  1.80257987e-02, -1.55430613e-02, -1.21062156e-02,\n",
       "        -1.32525517e-02,  5.62062254e-03,  9.48242960e-05, -5.02538029e-03,\n",
       "        -1.32722603e-02, -2.35038181e-03,  3.61779844e-03,  2.35670432e-03,\n",
       "         2.94976514e-02,  5.00069978e-03, -8.06349795e-03,  1.26499504e-01,\n",
       "         9.21458658e-03, -1.30500849e-02,  1.67099386e-02, -7.02611264e-03,\n",
       "         1.82570163e-02, -1.09249577e-02,  1.76034048e-02,  1.90306660e-02,\n",
       "        -8.63261335e-03,  1.27777271e-02, -1.16166892e-02,  1.31384358e-02,\n",
       "         5.39428694e-03,  1.14570279e-02,  1.32849831e-02,  2.44537070e-02,\n",
       "        -1.96086010e-03, -8.75634793e-03,  2.22936813e-02,  4.56186710e-03,\n",
       "        -1.33456104e-02,  2.05899077e-03,  6.79631205e-03, -1.01290848e-02,\n",
       "        -5.19382469e-02, -1.38811339e-02, -8.63875356e-03,  1.43761020e-02,\n",
       "        -1.47278579e-02,  1.57875959e-02, -7.49068055e-03, -5.67635661e-03,\n",
       "         2.40095071e-02, -1.03941904e-02, -5.54321846e-03, -8.93646758e-03,\n",
       "         1.72965527e-02, -2.03575566e-03,  1.81998387e-02, -8.50349199e-03,\n",
       "        -1.02994898e-02,  2.37166270e-04, -1.65370654e-03, -1.29212203e-04],\n",
       "       dtype=float32),\n",
       " array([[-0.27341494],\n",
       "        [ 0.56707466],\n",
       "        [-0.19433284],\n",
       "        [ 0.12901273],\n",
       "        [ 0.12442258],\n",
       "        [ 0.15016842],\n",
       "        [ 0.1570281 ],\n",
       "        [ 0.15482596],\n",
       "        [-0.15374112],\n",
       "        [ 0.0119742 ],\n",
       "        [-0.11209463],\n",
       "        [ 0.11593716],\n",
       "        [ 0.11571621],\n",
       "        [-0.04690352],\n",
       "        [-0.00454196],\n",
       "        [ 0.14200117],\n",
       "        [ 0.20821086],\n",
       "        [ 0.01779636],\n",
       "        [-0.05032143],\n",
       "        [ 0.04502667],\n",
       "        [ 0.02578779],\n",
       "        [ 0.05592107],\n",
       "        [ 0.07078952],\n",
       "        [-0.03999985],\n",
       "        [ 0.05115361],\n",
       "        [ 0.15985818],\n",
       "        [-0.00216807],\n",
       "        [-0.14216942],\n",
       "        [-0.03915662],\n",
       "        [ 0.18828857],\n",
       "        [ 0.08180175],\n",
       "        [-0.15455057],\n",
       "        [ 0.04585514],\n",
       "        [ 0.10703631],\n",
       "        [ 0.04065488],\n",
       "        [-0.18308713],\n",
       "        [ 0.29662025],\n",
       "        [-0.12070362],\n",
       "        [-0.03337851],\n",
       "        [ 0.35095102],\n",
       "        [-0.16243473],\n",
       "        [ 0.04501731],\n",
       "        [ 0.03778235],\n",
       "        [-0.17993486],\n",
       "        [-0.06393162],\n",
       "        [ 0.18997699],\n",
       "        [ 0.10233015],\n",
       "        [ 0.05820055],\n",
       "        [-0.20960356],\n",
       "        [-0.11406656],\n",
       "        [-0.20420735],\n",
       "        [-0.1409655 ],\n",
       "        [ 0.18425433],\n",
       "        [ 0.03237964],\n",
       "        [-0.22729881],\n",
       "        [-0.04217806],\n",
       "        [-0.07432392],\n",
       "        [-0.14091411],\n",
       "        [ 0.17108625],\n",
       "        [ 0.00498613],\n",
       "        [ 0.03971123],\n",
       "        [-0.08856361],\n",
       "        [ 0.08596555],\n",
       "        [-0.04254413],\n",
       "        [ 0.14178127],\n",
       "        [ 0.03849833],\n",
       "        [ 0.19209777],\n",
       "        [ 0.03938966],\n",
       "        [ 0.08315639],\n",
       "        [ 0.04577438],\n",
       "        [-0.03408992],\n",
       "        [ 0.18582883],\n",
       "        [ 0.13594699],\n",
       "        [-0.1923474 ],\n",
       "        [-0.2799844 ],\n",
       "        [ 0.10179055],\n",
       "        [ 0.06129077],\n",
       "        [ 0.3128045 ],\n",
       "        [ 0.19780035],\n",
       "        [-0.14006679],\n",
       "        [-0.1856544 ],\n",
       "        [ 0.0110731 ],\n",
       "        [ 0.2200795 ],\n",
       "        [ 0.4183723 ],\n",
       "        [-0.20692362],\n",
       "        [ 0.09326677],\n",
       "        [-0.01346468],\n",
       "        [ 0.12616001],\n",
       "        [-0.17846915],\n",
       "        [ 0.06760119],\n",
       "        [-0.03161116],\n",
       "        [ 0.04391356],\n",
       "        [ 0.0727043 ],\n",
       "        [-0.10183697],\n",
       "        [ 0.07625832],\n",
       "        [ 0.11873389],\n",
       "        [ 0.02869962],\n",
       "        [ 0.03008243],\n",
       "        [ 0.3285598 ],\n",
       "        [ 0.19339386],\n",
       "        [-0.1969378 ],\n",
       "        [ 0.0379549 ],\n",
       "        [-0.07615447],\n",
       "        [ 0.02428677],\n",
       "        [ 0.12766097],\n",
       "        [ 0.15762573],\n",
       "        [ 0.19511756],\n",
       "        [-0.09212153],\n",
       "        [-0.15245473],\n",
       "        [-0.01946182],\n",
       "        [ 0.11076199],\n",
       "        [-0.05404807],\n",
       "        [-0.0202142 ],\n",
       "        [ 0.33171442],\n",
       "        [-0.11437421],\n",
       "        [-0.24035357],\n",
       "        [ 0.05567781],\n",
       "        [ 0.20720431],\n",
       "        [ 0.2296286 ],\n",
       "        [-0.01918782],\n",
       "        [-0.07646322],\n",
       "        [ 0.06845641],\n",
       "        [-0.11592599],\n",
       "        [-0.04555655],\n",
       "        [ 0.14764898],\n",
       "        [ 0.19712931],\n",
       "        [ 0.24005795],\n",
       "        [ 0.12194531]], dtype=float32),\n",
       " array([0.31176758], dtype=float32)]"
      ]
     },
     "execution_count": 11,
     "metadata": {},
     "output_type": "execute_result"
    }
   ],
   "source": [
    "model.get_weights()"
   ]
  },
  {
   "cell_type": "code",
   "execution_count": 12,
   "metadata": {},
   "outputs": [],
   "source": [
    "# Step 2: Helper Functions\n",
    "# Function to decode reviews\n",
    "def decode_review(encoded_review):\n",
    "    return ' '.join([reverse_word_index.get(i - 3, '?') for i in encoded_review])\n",
    "\n",
    "# Function to preprocess user input\n",
    "def preprocess_text(text):\n",
    "    words = text.lower().split()\n",
    "    encoded_review = [word_index.get(word, 2) + 3 for word in words]\n",
    "    padded_review = sequence.pad_sequences([encoded_review], maxlen=500)\n",
    "    return padded_review"
   ]
  },
  {
   "cell_type": "code",
   "execution_count": 13,
   "metadata": {},
   "outputs": [],
   "source": [
    "### Prediction  function\n",
    "\n",
    "def predict_sentiment(review):\n",
    "    preprocessed_input=preprocess_text(review)\n",
    "\n",
    "    prediction=model.predict(preprocessed_input)\n",
    "\n",
    "    sentiment = 'Positive' if prediction[0][0] > 0.5 else 'Negative'\n",
    "    \n",
    "    return sentiment, prediction[0][0]\n",
    "\n"
   ]
  },
  {
   "cell_type": "code",
   "execution_count": 14,
   "metadata": {},
   "outputs": [
    {
     "name": "stdout",
     "output_type": "stream",
     "text": [
      "\u001b[1m1/1\u001b[0m \u001b[32m━━━━━━━━━━━━━━━━━━━━\u001b[0m\u001b[37m\u001b[0m \u001b[1m0s\u001b[0m 477ms/step\n",
      "Review: This movie was fantastic! The acting was great and the plot was thrilling.\n",
      "Sentiment: Negative\n",
      "Prediction Score: 0.3252449631690979\n"
     ]
    }
   ],
   "source": [
    "# Step 4: User Input and Prediction\n",
    "# Example review for prediction\n",
    "example_review = \"This movie was fantastic! The acting was great and the plot was thrilling.\"\n",
    "\n",
    "sentiment,score=predict_sentiment(example_review)\n",
    "\n",
    "print(f'Review: {example_review}')\n",
    "print(f'Sentiment: {sentiment}')\n",
    "print(f'Prediction Score: {score}')"
   ]
  },
  {
   "cell_type": "code",
   "execution_count": null,
   "metadata": {},
   "outputs": [],
   "source": []
  },
  {
   "cell_type": "code",
   "execution_count": null,
   "metadata": {},
   "outputs": [],
   "source": []
  },
  {
   "cell_type": "code",
   "execution_count": null,
   "metadata": {},
   "outputs": [],
   "source": []
  },
  {
   "cell_type": "code",
   "execution_count": null,
   "metadata": {},
   "outputs": [],
   "source": []
  }
 ],
 "metadata": {
  "kernelspec": {
   "display_name": "Python 3",
   "language": "python",
   "name": "python3"
  },
  "language_info": {
   "codemirror_mode": {
    "name": "ipython",
    "version": 3
   },
   "file_extension": ".py",
   "mimetype": "text/x-python",
   "name": "python",
   "nbconvert_exporter": "python",
   "pygments_lexer": "ipython3",
   "version": "3.11.13"
  }
 },
 "nbformat": 4,
 "nbformat_minor": 2
}
