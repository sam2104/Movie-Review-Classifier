{
 "cells": [
  {
   "cell_type": "code",
   "execution_count": 1,
   "metadata": {},
   "outputs": [],
   "source": [
    "# Step 1: Import Libraries and Load the Model\n",
    "import numpy as np\n",
    "import tensorflow as tf\n",
    "from tensorflow.keras.datasets import imdb\n",
    "from tensorflow.keras.preprocessing import sequence\n",
    "from tensorflow.keras.models import load_model"
   ]
  },
  {
   "cell_type": "code",
   "execution_count": 2,
   "metadata": {},
   "outputs": [],
   "source": [
    "\n",
    "# Load the IMDB dataset word index\n",
    "word_index = imdb.get_word_index()\n",
    "reverse_word_index = {value: key for key, value in word_index.items()}"
   ]
  },
  {
   "cell_type": "code",
   "execution_count": 3,
   "metadata": {},
   "outputs": [
    {
     "name": "stderr",
     "output_type": "stream",
     "text": [
      "WARNING:absl:Compiled the loaded model, but the compiled metrics have yet to be built. `model.compile_metrics` will be empty until you train or evaluate the model.\n"
     ]
    },
    {
     "data": {
      "text/html": [
       "<pre style=\"white-space:pre;overflow-x:auto;line-height:normal;font-family:Menlo,'DejaVu Sans Mono',consolas,'Courier New',monospace\"><span style=\"font-weight: bold\">Model: \"sequential\"</span>\n",
       "</pre>\n"
      ],
      "text/plain": [
       "\u001b[1mModel: \"sequential\"\u001b[0m\n"
      ]
     },
     "metadata": {},
     "output_type": "display_data"
    },
    {
     "data": {
      "text/html": [
       "<pre style=\"white-space:pre;overflow-x:auto;line-height:normal;font-family:Menlo,'DejaVu Sans Mono',consolas,'Courier New',monospace\">┏━━━━━━━━━━━━━━━━━━━━━━━━━━━━━━━━━┳━━━━━━━━━━━━━━━━━━━━━━━━┳━━━━━━━━━━━━━━━┓\n",
       "┃<span style=\"font-weight: bold\"> Layer (type)                    </span>┃<span style=\"font-weight: bold\"> Output Shape           </span>┃<span style=\"font-weight: bold\">       Param # </span>┃\n",
       "┡━━━━━━━━━━━━━━━━━━━━━━━━━━━━━━━━━╇━━━━━━━━━━━━━━━━━━━━━━━━╇━━━━━━━━━━━━━━━┩\n",
       "│ embedding (<span style=\"color: #0087ff; text-decoration-color: #0087ff\">Embedding</span>)           │ (<span style=\"color: #00af00; text-decoration-color: #00af00\">32</span>, <span style=\"color: #00af00; text-decoration-color: #00af00\">500</span>, <span style=\"color: #00af00; text-decoration-color: #00af00\">128</span>)         │     <span style=\"color: #00af00; text-decoration-color: #00af00\">1,280,000</span> │\n",
       "├─────────────────────────────────┼────────────────────────┼───────────────┤\n",
       "│ simple_rnn (<span style=\"color: #0087ff; text-decoration-color: #0087ff\">SimpleRNN</span>)          │ (<span style=\"color: #00af00; text-decoration-color: #00af00\">32</span>, <span style=\"color: #00af00; text-decoration-color: #00af00\">128</span>)              │        <span style=\"color: #00af00; text-decoration-color: #00af00\">32,896</span> │\n",
       "├─────────────────────────────────┼────────────────────────┼───────────────┤\n",
       "│ dense (<span style=\"color: #0087ff; text-decoration-color: #0087ff\">Dense</span>)                   │ (<span style=\"color: #00af00; text-decoration-color: #00af00\">32</span>, <span style=\"color: #00af00; text-decoration-color: #00af00\">1</span>)                │           <span style=\"color: #00af00; text-decoration-color: #00af00\">129</span> │\n",
       "└─────────────────────────────────┴────────────────────────┴───────────────┘\n",
       "</pre>\n"
      ],
      "text/plain": [
       "┏━━━━━━━━━━━━━━━━━━━━━━━━━━━━━━━━━┳━━━━━━━━━━━━━━━━━━━━━━━━┳━━━━━━━━━━━━━━━┓\n",
       "┃\u001b[1m \u001b[0m\u001b[1mLayer (type)                   \u001b[0m\u001b[1m \u001b[0m┃\u001b[1m \u001b[0m\u001b[1mOutput Shape          \u001b[0m\u001b[1m \u001b[0m┃\u001b[1m \u001b[0m\u001b[1m      Param #\u001b[0m\u001b[1m \u001b[0m┃\n",
       "┡━━━━━━━━━━━━━━━━━━━━━━━━━━━━━━━━━╇━━━━━━━━━━━━━━━━━━━━━━━━╇━━━━━━━━━━━━━━━┩\n",
       "│ embedding (\u001b[38;5;33mEmbedding\u001b[0m)           │ (\u001b[38;5;34m32\u001b[0m, \u001b[38;5;34m500\u001b[0m, \u001b[38;5;34m128\u001b[0m)         │     \u001b[38;5;34m1,280,000\u001b[0m │\n",
       "├─────────────────────────────────┼────────────────────────┼───────────────┤\n",
       "│ simple_rnn (\u001b[38;5;33mSimpleRNN\u001b[0m)          │ (\u001b[38;5;34m32\u001b[0m, \u001b[38;5;34m128\u001b[0m)              │        \u001b[38;5;34m32,896\u001b[0m │\n",
       "├─────────────────────────────────┼────────────────────────┼───────────────┤\n",
       "│ dense (\u001b[38;5;33mDense\u001b[0m)                   │ (\u001b[38;5;34m32\u001b[0m, \u001b[38;5;34m1\u001b[0m)                │           \u001b[38;5;34m129\u001b[0m │\n",
       "└─────────────────────────────────┴────────────────────────┴───────────────┘\n"
      ]
     },
     "metadata": {},
     "output_type": "display_data"
    },
    {
     "data": {
      "text/html": [
       "<pre style=\"white-space:pre;overflow-x:auto;line-height:normal;font-family:Menlo,'DejaVu Sans Mono',consolas,'Courier New',monospace\"><span style=\"font-weight: bold\"> Total params: </span><span style=\"color: #00af00; text-decoration-color: #00af00\">1,313,027</span> (5.01 MB)\n",
       "</pre>\n"
      ],
      "text/plain": [
       "\u001b[1m Total params: \u001b[0m\u001b[38;5;34m1,313,027\u001b[0m (5.01 MB)\n"
      ]
     },
     "metadata": {},
     "output_type": "display_data"
    },
    {
     "data": {
      "text/html": [
       "<pre style=\"white-space:pre;overflow-x:auto;line-height:normal;font-family:Menlo,'DejaVu Sans Mono',consolas,'Courier New',monospace\"><span style=\"font-weight: bold\"> Trainable params: </span><span style=\"color: #00af00; text-decoration-color: #00af00\">1,313,025</span> (5.01 MB)\n",
       "</pre>\n"
      ],
      "text/plain": [
       "\u001b[1m Trainable params: \u001b[0m\u001b[38;5;34m1,313,025\u001b[0m (5.01 MB)\n"
      ]
     },
     "metadata": {},
     "output_type": "display_data"
    },
    {
     "data": {
      "text/html": [
       "<pre style=\"white-space:pre;overflow-x:auto;line-height:normal;font-family:Menlo,'DejaVu Sans Mono',consolas,'Courier New',monospace\"><span style=\"font-weight: bold\"> Non-trainable params: </span><span style=\"color: #00af00; text-decoration-color: #00af00\">0</span> (0.00 B)\n",
       "</pre>\n"
      ],
      "text/plain": [
       "\u001b[1m Non-trainable params: \u001b[0m\u001b[38;5;34m0\u001b[0m (0.00 B)\n"
      ]
     },
     "metadata": {},
     "output_type": "display_data"
    },
    {
     "data": {
      "text/html": [
       "<pre style=\"white-space:pre;overflow-x:auto;line-height:normal;font-family:Menlo,'DejaVu Sans Mono',consolas,'Courier New',monospace\"><span style=\"font-weight: bold\"> Optimizer params: </span><span style=\"color: #00af00; text-decoration-color: #00af00\">2</span> (12.00 B)\n",
       "</pre>\n"
      ],
      "text/plain": [
       "\u001b[1m Optimizer params: \u001b[0m\u001b[38;5;34m2\u001b[0m (12.00 B)\n"
      ]
     },
     "metadata": {},
     "output_type": "display_data"
    }
   ],
   "source": [
    "# Load the pre-trained model with ReLU activation\n",
    "model = load_model('simple_rnn_imdb.h5')\n",
    "model.summary()"
   ]
  },
  {
   "cell_type": "code",
   "execution_count": 4,
   "metadata": {},
   "outputs": [
    {
     "data": {
      "text/plain": [
       "[array([[-1.9325237e-01, -4.2110899e-01, -1.8111251e-01, ...,\n",
       "          1.3481905e-01,  3.9483305e-02, -6.5432705e-02],\n",
       "        [-2.3298707e-02,  7.4178033e-02,  6.4044707e-02, ...,\n",
       "         -9.3437046e-02, -6.8341620e-02,  7.1262263e-02],\n",
       "        [ 7.0740134e-03,  6.5346725e-02,  8.9707896e-02, ...,\n",
       "         -3.9869245e-02,  1.7444082e-02,  8.0116503e-02],\n",
       "        ...,\n",
       "        [-2.7022967e-01,  4.7208086e-02, -6.0813155e-02, ...,\n",
       "          1.5820770e-01,  1.5076286e-04,  5.8445116e-03],\n",
       "        [-8.3734684e-02, -4.0168986e-02,  6.2522866e-02, ...,\n",
       "         -2.6894221e-02, -3.2432780e-02,  1.0735572e-02],\n",
       "        [-2.7520213e-01,  5.2448500e-02, -1.7349176e-01, ...,\n",
       "          2.2880420e-01, -3.1432603e-02, -3.7366029e-02]], dtype=float32),\n",
       " array([[-0.15305842,  0.06609262, -0.02616665, ..., -0.14000148,\n",
       "          0.00899421, -0.10138105],\n",
       "        [-0.13473016, -0.10295383, -0.10407628, ..., -0.14672032,\n",
       "          0.04686313, -0.03567639],\n",
       "        [-0.19540665,  0.06286361, -0.1917994 , ...,  0.04547088,\n",
       "         -0.00397668,  0.12557651],\n",
       "        ...,\n",
       "        [ 0.11964753,  0.01391429,  0.16496211, ...,  0.19559409,\n",
       "         -0.09041367,  0.20399101],\n",
       "        [ 0.04163003, -0.04027853, -0.00091001, ...,  0.12455357,\n",
       "          0.04177789,  0.08026522],\n",
       "        [-0.00144575,  0.08276661, -0.08555269, ...,  0.0529251 ,\n",
       "         -0.10529484, -0.14244233]], dtype=float32),\n",
       " array([[ 0.11338578, -0.03565114,  0.14786194, ..., -0.00091986,\n",
       "         -0.0654391 ,  0.04964826],\n",
       "        [-0.04684104, -0.14193441, -0.07726786, ..., -0.18288647,\n",
       "          0.0871568 ,  0.09673615],\n",
       "        [ 0.11722459, -0.15155652,  0.06234059, ...,  0.09621331,\n",
       "         -0.0244735 ,  0.02135015],\n",
       "        ...,\n",
       "        [-0.03962111, -0.13040997,  0.06784018, ..., -0.18393616,\n",
       "         -0.12340973, -0.02637544],\n",
       "        [ 0.01946615, -0.21845599,  0.06438679, ...,  0.09439721,\n",
       "         -0.01248911, -0.17285128],\n",
       "        [-0.128354  ,  0.1030364 ,  0.11509401, ...,  0.04095172,\n",
       "         -0.07114896, -0.03850416]], dtype=float32),\n",
       " array([ 0.0135253 , -0.05234885,  0.01473963, -0.05483207, -0.00845361,\n",
       "        -0.0408779 , -0.06976404,  0.05537469, -0.0306764 , -0.00873404,\n",
       "        -0.03202281, -0.01335078, -0.10378269,  0.02339931,  0.05560675,\n",
       "        -0.00518097, -0.03009943,  0.03700573, -0.03293183, -0.00813772,\n",
       "        -0.01799323, -0.00820715,  0.00413615,  0.01485278, -0.01430719,\n",
       "        -0.01753695,  0.02328008,  0.0055184 , -0.02231476, -0.02239103,\n",
       "        -0.0076963 , -0.00176145,  0.02806226, -0.03028944, -0.03050712,\n",
       "         0.00694602, -0.05761693, -0.0916457 , -0.03374131, -0.02603584,\n",
       "        -0.02036568,  0.0078074 , -0.02414355, -0.02507791,  0.01002365,\n",
       "        -0.02135892, -0.06128418,  0.0138936 ,  0.04692421, -0.00606102,\n",
       "        -0.04129516,  0.01719228, -0.02436026,  0.07352748,  0.00309156,\n",
       "        -0.02403797,  0.03628702, -0.04755663, -0.0431868 , -0.03717022,\n",
       "        -0.00013466,  0.0148591 ,  0.00061872, -0.03328778, -0.02758163,\n",
       "        -0.03459707, -0.02036269, -0.04131977, -0.04155303, -0.02364239,\n",
       "        -0.0003874 , -0.03800908, -0.02719829,  0.01148415,  0.03716475,\n",
       "        -0.01118925, -0.07405545,  0.05986752, -0.03912279,  0.0059592 ,\n",
       "        -0.03518435, -0.02873693, -0.003598  , -0.05594873, -0.0184378 ,\n",
       "        -0.01077249, -0.01269244,  0.0018084 ,  0.0360022 ,  0.04539444,\n",
       "        -0.04269231, -0.03584581, -0.01894952, -0.00236132, -0.03990535,\n",
       "        -0.03212558, -0.00204715,  0.02435458,  0.0192509 ,  0.07043403,\n",
       "        -0.01916614, -0.08231103, -0.05168479,  0.02370031, -0.0167599 ,\n",
       "        -0.04186903, -0.06569155, -0.0296495 , -0.01701917,  0.01466188,\n",
       "        -0.02258399,  0.01897923, -0.01149487, -0.00251621,  0.04575649,\n",
       "         0.00313353,  0.02977993,  0.02990101,  0.03576862, -0.00744893,\n",
       "        -0.02644639, -0.01919739, -0.02294172,  0.03355764, -0.04623109,\n",
       "        -0.04930048,  0.0045081 , -0.00040753], dtype=float32),\n",
       " array([[ 1.94429576e-01],\n",
       "        [ 3.58366631e-02],\n",
       "        [ 1.07715510e-01],\n",
       "        [ 1.13893785e-01],\n",
       "        [-1.98440224e-01],\n",
       "        [-1.67266056e-01],\n",
       "        [-1.30443834e-03],\n",
       "        [-7.08285719e-02],\n",
       "        [-6.10355660e-02],\n",
       "        [ 7.26883411e-02],\n",
       "        [-1.10343367e-01],\n",
       "        [ 1.11324489e-01],\n",
       "        [ 2.63496220e-01],\n",
       "        [ 1.14530720e-01],\n",
       "        [ 1.50208130e-01],\n",
       "        [ 4.41212719e-03],\n",
       "        [-7.39825368e-02],\n",
       "        [-6.01670966e-02],\n",
       "        [-9.71184447e-02],\n",
       "        [ 1.88060142e-02],\n",
       "        [ 1.99093707e-02],\n",
       "        [-1.31489170e+00],\n",
       "        [-3.74272674e-01],\n",
       "        [ 1.64766014e-01],\n",
       "        [ 1.51573107e-01],\n",
       "        [ 1.78145468e-01],\n",
       "        [ 1.28980473e-01],\n",
       "        [ 3.05221945e-01],\n",
       "        [-1.14127301e-01],\n",
       "        [-1.52619779e-01],\n",
       "        [ 1.83361292e-01],\n",
       "        [-1.33352906e-01],\n",
       "        [-4.92201596e-02],\n",
       "        [ 8.28165039e-02],\n",
       "        [-5.32419495e-02],\n",
       "        [ 2.12047268e-02],\n",
       "        [ 1.93377919e-02],\n",
       "        [-6.13105558e-02],\n",
       "        [ 5.51947057e-02],\n",
       "        [-8.33825245e-02],\n",
       "        [ 4.94486503e-02],\n",
       "        [-2.15984210e-01],\n",
       "        [ 1.72788829e-01],\n",
       "        [-5.34550473e-02],\n",
       "        [ 9.59487483e-02],\n",
       "        [-2.77336426e-02],\n",
       "        [ 3.43729913e-01],\n",
       "        [ 4.70300019e-02],\n",
       "        [ 1.70626789e-01],\n",
       "        [ 2.04187334e-01],\n",
       "        [ 1.55173823e-01],\n",
       "        [ 2.18030229e-01],\n",
       "        [ 2.12310523e-01],\n",
       "        [ 4.37030196e-02],\n",
       "        [-3.91813740e-02],\n",
       "        [ 5.72662577e-02],\n",
       "        [ 5.95601387e-02],\n",
       "        [ 1.19489364e-01],\n",
       "        [ 1.75453812e-01],\n",
       "        [-1.10621832e-01],\n",
       "        [ 1.02857530e-01],\n",
       "        [-4.55188006e-02],\n",
       "        [ 2.43307158e-01],\n",
       "        [-2.76159853e-01],\n",
       "        [ 8.49869549e-02],\n",
       "        [ 1.14195779e-01],\n",
       "        [ 3.13076153e-02],\n",
       "        [ 1.31566286e-01],\n",
       "        [ 1.03903718e-01],\n",
       "        [-1.22550644e-01],\n",
       "        [-2.62605399e-01],\n",
       "        [ 9.81554016e-02],\n",
       "        [-1.14699360e-02],\n",
       "        [-1.79668680e-01],\n",
       "        [ 7.97577351e-02],\n",
       "        [ 1.51496276e-01],\n",
       "        [ 4.37289476e-02],\n",
       "        [-2.63534486e-01],\n",
       "        [ 7.73786843e-01],\n",
       "        [ 1.18690453e-01],\n",
       "        [-2.28643045e-01],\n",
       "        [-7.98536539e-02],\n",
       "        [ 2.08521202e-01],\n",
       "        [ 4.13883291e-02],\n",
       "        [-9.98619199e-02],\n",
       "        [ 1.43963084e-01],\n",
       "        [ 1.06574036e-02],\n",
       "        [-1.14198118e-01],\n",
       "        [-1.75386280e-01],\n",
       "        [ 3.12855035e-01],\n",
       "        [-1.76755041e-01],\n",
       "        [-2.33458698e-01],\n",
       "        [-1.28445959e+00],\n",
       "        [-4.16746229e-01],\n",
       "        [ 9.36452076e-02],\n",
       "        [-8.18912312e-02],\n",
       "        [ 9.83060598e-02],\n",
       "        [ 2.24052057e-01],\n",
       "        [ 2.19304234e-01],\n",
       "        [-5.22301383e-02],\n",
       "        [-5.47322184e-02],\n",
       "        [-1.26132980e-01],\n",
       "        [ 1.29127014e+00],\n",
       "        [ 1.09151214e-01],\n",
       "        [ 1.33795202e-01],\n",
       "        [-1.93972379e-01],\n",
       "        [ 1.79618388e-01],\n",
       "        [ 1.77315205e-01],\n",
       "        [ 1.57983184e-01],\n",
       "        [-1.88426822e-02],\n",
       "        [-2.71188706e-01],\n",
       "        [-1.76474810e-01],\n",
       "        [ 1.51969120e-01],\n",
       "        [ 4.68754992e-02],\n",
       "        [ 1.83084652e-01],\n",
       "        [-7.16657639e-02],\n",
       "        [ 1.45919651e-01],\n",
       "        [-1.39102042e-01],\n",
       "        [-1.22985780e-01],\n",
       "        [ 1.07575819e-01],\n",
       "        [-2.13101998e-01],\n",
       "        [ 2.11964678e-02],\n",
       "        [ 7.08216205e-02],\n",
       "        [ 3.41167897e-02],\n",
       "        [-5.43324612e-02],\n",
       "        [-8.96278396e-02],\n",
       "        [-5.27008623e-02],\n",
       "        [-2.12880038e-02]], dtype=float32),\n",
       " array([0.28868824], dtype=float32)]"
      ]
     },
     "execution_count": 4,
     "metadata": {},
     "output_type": "execute_result"
    }
   ],
   "source": [
    "model.get_weights()"
   ]
  },
  {
   "cell_type": "code",
   "execution_count": 5,
   "metadata": {},
   "outputs": [],
   "source": [
    "# Step 2: Helper Functions\n",
    "# Function to decode reviews\n",
    "def decode_review(encoded_review):\n",
    "    return ' '.join([reverse_word_index.get(i - 3, '?') for i in encoded_review])\n",
    "\n",
    "# Function to preprocess user input\n",
    "def preprocess_text(text):\n",
    "    words = text.lower().split()\n",
    "    encoded_review = [word_index.get(word, 2) + 3 for word in words]\n",
    "    padded_review = sequence.pad_sequences([encoded_review], maxlen=500)\n",
    "    return padded_review"
   ]
  },
  {
   "cell_type": "code",
   "execution_count": 6,
   "metadata": {},
   "outputs": [],
   "source": [
    "### Prediction  function\n",
    "\n",
    "def predict_sentiment(review):\n",
    "    preprocessed_input=preprocess_text(review)\n",
    "\n",
    "    prediction=model.predict(preprocessed_input)\n",
    "\n",
    "    sentiment = 'Positive' if prediction[0][0] > 0.5 else 'Negative'\n",
    "    \n",
    "    return sentiment, prediction[0][0]\n",
    "\n"
   ]
  },
  {
   "cell_type": "code",
   "execution_count": 7,
   "metadata": {},
   "outputs": [
    {
     "name": "stdout",
     "output_type": "stream",
     "text": [
      "\u001b[1m1/1\u001b[0m \u001b[32m━━━━━━━━━━━━━━━━━━━━\u001b[0m\u001b[37m\u001b[0m \u001b[1m0s\u001b[0m 158ms/step\n",
      "Review: This movie was fantastic! The acting was great and the plot was thrilling.\n",
      "Sentiment: Positive\n",
      "Prediction Score: 0.8276609778404236\n"
     ]
    }
   ],
   "source": [
    "# Step 4: User Input and Prediction\n",
    "# Example review for prediction\n",
    "example_review = \"This movie was fantastic! The acting was great and the plot was thrilling.\"\n",
    "\n",
    "sentiment,score=predict_sentiment(example_review)\n",
    "\n",
    "print(f'Review: {example_review}')\n",
    "print(f'Sentiment: {sentiment}')\n",
    "print(f'Prediction Score: {score}')"
   ]
  },
  {
   "cell_type": "code",
   "execution_count": null,
   "metadata": {},
   "outputs": [],
   "source": []
  },
  {
   "cell_type": "code",
   "execution_count": null,
   "metadata": {},
   "outputs": [],
   "source": []
  },
  {
   "cell_type": "code",
   "execution_count": null,
   "metadata": {},
   "outputs": [],
   "source": []
  },
  {
   "cell_type": "code",
   "execution_count": null,
   "metadata": {},
   "outputs": [],
   "source": []
  }
 ],
 "metadata": {
  "kernelspec": {
   "display_name": "Python 3",
   "language": "python",
   "name": "python3"
  },
  "language_info": {
   "codemirror_mode": {
    "name": "ipython",
    "version": 3
   },
   "file_extension": ".py",
   "mimetype": "text/x-python",
   "name": "python",
   "nbconvert_exporter": "python",
   "pygments_lexer": "ipython3",
   "version": "3.11.13"
  }
 },
 "nbformat": 4,
 "nbformat_minor": 2
}
